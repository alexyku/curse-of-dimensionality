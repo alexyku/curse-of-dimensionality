{
 "cells": [
  {
   "cell_type": "code",
   "execution_count": 207,
   "metadata": {},
   "outputs": [],
   "source": [
    "%%capture\n",
    "%load_ext autoreload\n",
    "%autoreload 2\n",
    "\n",
    "from glob import glob\n",
    "from functools import reduce\n",
    "from tqdm import tqdm\n",
    "import sys\n",
    "\n",
    "from sklearn.naive_bayes import GaussianNB\n",
    "\n",
    "from pilot import *\n",
    "%matplotlib inline\n",
    "plt.style.use(\"ggplot\")\n",
    "\n",
    "LOGDIR = os.path.join(os.getcwd(), 'logs')"
   ]
  },
  {
   "cell_type": "code",
   "execution_count": 179,
   "metadata": {},
   "outputs": [],
   "source": [
    "NBLOCKS = 5\n",
    "NTRIALS = 10\n",
    "\n",
    "dims = [10, 100, 200]\n",
    "scales = [0.25, 0.50, 0.75]\n",
    "experiments = []\n",
    "for d in dims:\n",
    "    for s in scales:\n",
    "        experiments.append({'ndims': d, 'scale': s})"
   ]
  },
  {
   "cell_type": "code",
   "execution_count": 180,
   "metadata": {},
   "outputs": [],
   "source": [
    "def label_to_binary(label):\n",
    "    if label == 'bivimias':\n",
    "        return 0\n",
    "    elif label == 'lorifens':\n",
    "        return 1\n",
    "    else:\n",
    "        raise ValueError('Unknown label: {}'.format(label))"
   ]
  },
  {
   "cell_type": "code",
   "execution_count": 181,
   "metadata": {},
   "outputs": [],
   "source": [
    "def run_experiment(x, feat_type, nblocks=NBLOCKS, ntrials=NTRIALS, logdir=LOGDIR, seed=None):\n",
    "    if seed is not None:\n",
    "        np.random.seed(seed)\n",
    "    config = get_config(nblocks=nblocks, ntrials=ntrials, ndims=x['ndims'], std=x['scale'], print_feedback=True)\n",
    "    blocks = get_blocks(config)\n",
    "    return simulate_learning(blocks, config, feat_type)"
   ]
  },
  {
   "cell_type": "code",
   "execution_count": 182,
   "metadata": {},
   "outputs": [],
   "source": [
    "def simulate_learning(blocks, config, feat_type='z'):\n",
    "    \n",
    "    if feat_type == 'z':\n",
    "        ndims = 200\n",
    "    elif feat_type == 'img':\n",
    "        ndims = 12288\n",
    "    else:\n",
    "        raise ValueError('Unrecognized feat_type: {}'.format(feat_type))\n",
    "        \n",
    "    X_tot = np.zeros((NBLOCKS * NTRIALS, ndims))\n",
    "    y_tot = np.zeros((NBLOCKS * NTRIALS))\n",
    "    \n",
    "    pred_blocks = []\n",
    "    for b, block in enumerate(blocks):\n",
    "#         print('Running block {}...'.format(b))\n",
    "        preds = []\n",
    "        for i, sample in enumerate(block):\n",
    "            curr_idx = (b * NTRIALS) + i\n",
    "            \n",
    "            X = sample[feat_type].reshape(1, -1)\n",
    "            y = np.array(label_to_binary(sample['category'])).reshape((1,))\n",
    "            \n",
    "            if b == 0 and i == 0:\n",
    "                # First guess is random\n",
    "                p = np.array([float(np.random.binomial(1, p=0.5))])\n",
    "            else:\n",
    "                # Need to re-declare model every iteration, since partial_fit not working\n",
    "                model = GaussianNB()\n",
    "                model.fit(X_tot[:curr_idx], y_tot[:curr_idx])\n",
    "                p = model.predict(X)\n",
    "            \n",
    "            preds.append((int(p), int(y)))\n",
    "            \n",
    "            X_tot[curr_idx] = X\n",
    "            y_tot[curr_idx] = y\n",
    "            \n",
    "        pred_blocks.append(preds)\n",
    "            \n",
    "            \n",
    "    return pred_blocks"
   ]
  },
  {
   "cell_type": "code",
   "execution_count": 217,
   "metadata": {},
   "outputs": [
    {
     "name": "stdout",
     "output_type": "stream",
     "text": [
      "{'ndims': 10, 'scale': 0.25}\n"
     ]
    },
    {
     "name": "stderr",
     "output_type": "stream",
     "text": [
      "100%|██████████| 1/1 [00:00<00:00,  1.14it/s]"
     ]
    },
    {
     "name": "stdout",
     "output_type": "stream",
     "text": [
      "{'ndims': 10, 'scale': 0.5}\n"
     ]
    },
    {
     "name": "stderr",
     "output_type": "stream",
     "text": [
      "\n",
      "100%|██████████| 1/1 [00:00<00:00,  1.10it/s]"
     ]
    },
    {
     "name": "stdout",
     "output_type": "stream",
     "text": [
      "{'ndims': 10, 'scale': 0.75}\n"
     ]
    },
    {
     "name": "stderr",
     "output_type": "stream",
     "text": [
      "\n",
      "100%|██████████| 1/1 [00:00<00:00,  1.05it/s]"
     ]
    },
    {
     "name": "stdout",
     "output_type": "stream",
     "text": [
      "{'ndims': 100, 'scale': 0.25}\n"
     ]
    },
    {
     "name": "stderr",
     "output_type": "stream",
     "text": [
      "\n",
      "100%|██████████| 1/1 [00:00<00:00,  1.10it/s]"
     ]
    },
    {
     "name": "stdout",
     "output_type": "stream",
     "text": [
      "{'ndims': 100, 'scale': 0.5}\n"
     ]
    },
    {
     "name": "stderr",
     "output_type": "stream",
     "text": [
      "\n",
      "100%|██████████| 1/1 [00:00<00:00,  1.16it/s]"
     ]
    },
    {
     "name": "stdout",
     "output_type": "stream",
     "text": [
      "{'ndims': 100, 'scale': 0.75}\n"
     ]
    },
    {
     "name": "stderr",
     "output_type": "stream",
     "text": [
      "\n",
      "100%|██████████| 1/1 [00:00<00:00,  1.02it/s]"
     ]
    },
    {
     "name": "stdout",
     "output_type": "stream",
     "text": [
      "{'ndims': 200, 'scale': 0.25}\n"
     ]
    },
    {
     "name": "stderr",
     "output_type": "stream",
     "text": [
      "\n",
      "100%|██████████| 1/1 [00:00<00:00,  1.13it/s]"
     ]
    },
    {
     "name": "stdout",
     "output_type": "stream",
     "text": [
      "{'ndims': 200, 'scale': 0.5}\n"
     ]
    },
    {
     "name": "stderr",
     "output_type": "stream",
     "text": [
      "\n",
      "100%|██████████| 1/1 [00:00<00:00,  1.17it/s]"
     ]
    },
    {
     "name": "stdout",
     "output_type": "stream",
     "text": [
      "{'ndims': 200, 'scale': 0.75}\n"
     ]
    },
    {
     "name": "stderr",
     "output_type": "stream",
     "text": [
      "\n",
      "100%|██████████| 1/1 [00:00<00:00,  1.04it/s]\n"
     ]
    },
    {
     "data": {
      "image/png": "[encoded data removed]",
      "text/plain": [
       "<Figure size 432x288 with 1 Axes>"
      ]
     },
     "metadata": {},
     "output_type": "display_data"
    }
   ],
   "source": [
    "NRUNS = 1\n",
    "experiment_results = []\n",
    "\n",
    "for ex in experiments:\n",
    "    print(ex)\n",
    "    sys.stdout.flush()\n",
    "    acc_tot = np.zeros((NRUNS, NBLOCKS))\n",
    "    for i in tqdm(range(NRUNS)):\n",
    "        pred_blocks = run_experiment(ex, feat_type='z')\n",
    "        acc_blocks = [float(sum(map(lambda x: int(x[0] == x[1]), block))) / float(len(block)) for block in pred_blocks]\n",
    "        acc_tot[i] = np.array(acc_blocks).reshape(1, -1)\n",
    "        \n",
    "    experiment_results.append(acc_tot)\n",
    "    plt.plot(range(1, NBLOCKS+1), np.mean(acc_tot, axis=0))"
   ]
  },
  {
   "cell_type": "code",
   "execution_count": 219,
   "metadata": {},
   "outputs": [
    {
     "data": {
      "text/plain": [
       "[array([[0.8, 1. , 1. , 1. , 1. ]]),\n",
       " array([[0.8, 1. , 1. , 1. , 1. ]]),\n",
       " array([[0.8, 1. , 1. , 1. , 1. ]]),\n",
       " array([[0.8, 1. , 1. , 1. , 1. ]]),\n",
       " array([[0.9, 1. , 1. , 1. , 1. ]]),\n",
       " array([[0.9, 1. , 1. , 1. , 1. ]]),\n",
       " array([[0.6, 1. , 1. , 1. , 1. ]]),\n",
       " array([[0.7, 0.8, 1. , 1. , 1. ]]),\n",
       " array([[0.6, 0.7, 1. , 1. , 1. ]])]"
      ]
     },
     "execution_count": 219,
     "metadata": {},
     "output_type": "execute_result"
    }
   ],
   "source": [
    "experiment_results"
   ]
  },
  {
   "cell_type": "code",
   "execution_count": 227,
   "metadata": {},
   "outputs": [
    {
     "data": {
      "image/png": "[encoded data removed]",
      "text/plain": [
       "<Figure size 432x288 with 1 Axes>"
      ]
     },
     "metadata": {},
     "output_type": "display_data"
    }
   ],
   "source": [
    "plt.figure()\n",
    "\n",
    "for i, r in enumerate(experiment_results):\n",
    "    plt.plot(range(1, NBLOCKS+1), np.mean(r, axis=0), label=experiments[i])\n",
    "    \n",
    "plt.legend()\n",
    "plt.show()"
   ]
  },
  {
   "cell_type": "code",
   "execution_count": null,
   "metadata": {},
   "outputs": [],
   "source": []
  }
 ],
 "metadata": {
  "kernelspec": {
   "display_name": "mcmcp",
   "language": "python",
   "name": "mcmcp"
  },
  "language_info": {
   "codemirror_mode": {
    "name": "ipython",
    "version": 2
   },
   "file_extension": ".py",
   "mimetype": "text/x-python",
   "name": "python",
   "nbconvert_exporter": "python",
   "pygments_lexer": "ipython2",
   "version": "2.7.13"
  }
 },
 "nbformat": 4,
 "nbformat_minor": 2
}
