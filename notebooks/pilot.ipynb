{
 "cells": [
  {
   "cell_type": "code",
   "execution_count": 13,
   "metadata": {},
   "outputs": [],
   "source": [
    "from pilot import *\n",
    "%matplotlib inline\n",
    "plt.style.use(\"ggplot\")"
   ]
  },
  {
   "cell_type": "markdown",
   "metadata": {},
   "source": [
    "# Pilot Experiment\n",
    "\n",
    "Run the following cell to begin."
   ]
  },
  {
   "cell_type": "code",
   "execution_count": 102,
   "metadata": {},
   "outputs": [
    {
     "name": "stdout",
     "output_type": "stream",
     "text": [
      "Thank you for completing this experiment!\n",
      "Correct: 0.9500\n",
      "\n",
      "\n",
      "\n",
      "\n",
      "\n",
      "\n",
      "\n",
      "\n",
      "\n",
      "\n",
      "\n",
      "\n",
      "\n",
      "\n",
      "\n",
      "\n",
      "\n",
      "\n",
      "\n",
      "\n",
      "\n"
     ]
    }
   ],
   "source": [
    "config = get_config(ndims=200, nblocks=5, ntrials=20)\n",
    "blocks = get_blocks(config)\n",
    "pilot_experiment(blocks, config)"
   ]
  },
  {
   "cell_type": "code",
   "execution_count": 103,
   "metadata": {},
   "outputs": [],
   "source": [
    "# export experiment\n",
    "outdir = os.path.join(\"/Users/alexyku/Desktop\", str(uuid.uuid4()))\n",
    "!mkdir -p {outdir}\n",
    "\n",
    "np.savez(os.path.join(outdir, \"config.npz\"), **config)\n",
    "np.savez(os.path.join(outdir, \"blocks.npz\"), *blocks)\n",
    "\n",
    "# to load back for analysis\n",
    "# config = dict(np.load(os.path.join(outdir, \"config.npz\")).items())\n",
    "# blocks = [list(x) for _, x in np.load(os.path.join(outdir, \"blocks.npz\")).items()]"
   ]
  },
  {
   "cell_type": "code",
   "execution_count": null,
   "metadata": {},
   "outputs": [],
   "source": []
  }
 ],
 "metadata": {
  "kernelspec": {
   "display_name": "mcmcp",
   "language": "python",
   "name": "mcmcp"
  },
  "language_info": {
   "codemirror_mode": {
    "name": "ipython",
    "version": 2
   },
   "file_extension": ".py",
   "mimetype": "text/x-python",
   "name": "python",
   "nbconvert_exporter": "python",
   "pygments_lexer": "ipython2",
   "version": "2.7.13"
  }
 },
 "nbformat": 4,
 "nbformat_minor": 2
}
