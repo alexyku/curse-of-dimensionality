{
 "cells": [
  {
   "cell_type": "markdown",
   "metadata": {},
   "source": [
    "# Setup\n",
    "For the experimenter - no need to worry about this."
   ]
  },
  {
   "cell_type": "code",
   "execution_count": 1,
   "metadata": {},
   "outputs": [],
   "source": [
    "%%capture\n",
    "\n",
    "from glob import glob\n",
    "import random\n",
    "from scipy import stats\n",
    "\n",
    "from pilot import *\n",
    "%matplotlib inline\n",
    "plt.style.use(\"ggplot\")\n",
    "\n",
    "LOGDIR = os.path.join(os.getcwd(), 'logs')"
   ]
  },
  {
   "cell_type": "code",
   "execution_count": 2,
   "metadata": {},
   "outputs": [],
   "source": [
    "NBLOCKS = 5\n",
    "NTRIALS = 10\n",
    "\n",
    "dims = [10, 100, 200]\n",
    "scales = [0.2, 0.4, 0.6]\n",
    "experiments = []\n",
    "for d in dims:\n",
    "    for s in scales:\n",
    "        experiments.append({'ndims': d, 'scale': s})\n",
    "        \n",
    "# Randomly shuffle the experiments\n",
    "my_experiments = random.sample(experiments, len(experiments))"
   ]
  },
  {
   "cell_type": "code",
   "execution_count": 3,
   "metadata": {},
   "outputs": [],
   "source": [
    "practice_experiment = {'ndims': 10, 'scale': 0.2}"
   ]
  },
  {
   "cell_type": "code",
   "execution_count": 4,
   "metadata": {},
   "outputs": [],
   "source": [
    "def run_experiment(x, participant, nblocks=NBLOCKS, ntrials=NTRIALS, logdir=LOGDIR):\n",
    "    config = get_config(nblocks=nblocks, ntrials=ntrials, ndims=x['ndims'], std=x['scale'], print_feedback=True)\n",
    "    blocks = get_blocks(config)\n",
    "    pilot_experiment(blocks, config, participant, logdir)"
   ]
  },
  {
   "cell_type": "markdown",
   "metadata": {},
   "source": [
    "# Participant info\n",
    "Please enter the following details."
   ]
  },
  {
   "cell_type": "code",
   "execution_count": 5,
   "metadata": {},
   "outputs": [],
   "source": [
    "participant = {\n",
    "    'id_num': 0,\n",
    "    'initials': 'GG',\n",
    "}"
   ]
  },
  {
   "cell_type": "markdown",
   "metadata": {},
   "source": [
    "# The Art Show Game\n",
    "\n",
    "You are a collector of abstract paintings. At an art show, you are asked to help distinguish between the works of two up-and-coming abstract painters: Michél Bivimiano and Micah Lorifensky. Though you've never seen their art before, you have a keen eye and are able to put it to use.\n",
    "\n",
    "In the following experiments, you'll be presented with different paintings, and asked to determine the artist. After each determination, you'll receive feedback telling you whether you were correct. Note that you'll see work from the two painters in equal proportion."
   ]
  },
  {
   "cell_type": "markdown",
   "metadata": {},
   "source": [
    "## Practice experiment"
   ]
  },
  {
   "cell_type": "code",
   "execution_count": 6,
   "metadata": {},
   "outputs": [
    {
     "name": "stdout",
     "output_type": "stream",
     "text": [
      "Question: 1/5\n",
      "Block: 1/5\n",
      "Correct: 0.0000\n",
      "\n",
      "Is this a Bivimiano or a Lorifensky?\n"
     ]
    },
    {
     "data": {
      "image/png": "[encoded data removed]",
      "text/plain": [
       "<Figure size 432x288 with 1 Axes>"
      ]
     },
     "metadata": {
      "needs_background": "light"
     },
     "output_type": "display_data"
    },
    {
     "data": {
      "application/vnd.jupyter.widget-view+json": {
       "model_id": "d624085d317f4e9c8f6ed8e54e1460c5",
       "version_major": 2,
       "version_minor": 0
      },
      "text/plain": [
       "SEJveChjaGlsZHJlbj0oQnV0dG9uKGRlc2NyaXB0aW9uPXUnQml2aW1pYW5vJywgc3R5bGU9QnV0dG9uU3R5bGUoKSksIEJ1dHRvbihkZXNjcmlwdGlvbj11J0xvcmlmZW5za3knLCBzdHlsZT3igKY=\n"
      ]
     },
     "metadata": {},
     "output_type": "display_data"
    }
   ],
   "source": [
    "run_experiment(practice_experiment, participant, nblocks=5, ntrials=1, logdir=os.path.join(LOGDIR, 'practice'))"
   ]
  },
  {
   "cell_type": "markdown",
   "metadata": {},
   "source": [
    "## Experiment 0"
   ]
  },
  {
   "cell_type": "code",
   "execution_count": 7,
   "metadata": {},
   "outputs": [
    {
     "data": {
      "application/vnd.jupyter.widget-view+json": {
       "model_id": "d291404527de41aaaffc7dbc7b3901f5",
       "version_major": 2,
       "version_minor": 0
      },
      "text/plain": [
       "Button(description=u'Start', style=ButtonStyle())"
      ]
     },
     "metadata": {},
     "output_type": "display_data"
    }
   ],
   "source": [
    "run_experiment(my_experiments[0], participant, logdir=LOGDIR)"
   ]
  },
  {
   "cell_type": "markdown",
   "metadata": {},
   "source": [
    "## Experiment 1"
   ]
  },
  {
   "cell_type": "code",
   "execution_count": 8,
   "metadata": {},
   "outputs": [
    {
     "data": {
      "application/vnd.jupyter.widget-view+json": {
       "model_id": "2f91a5e10faf4bf28427c9cc7a455d71",
       "version_major": 2,
       "version_minor": 0
      },
      "text/plain": [
       "Button(description=u'Start', style=ButtonStyle())"
      ]
     },
     "metadata": {},
     "output_type": "display_data"
    }
   ],
   "source": [
    "run_experiment(my_experiments[1], participant, logdir=LOGDIR)"
   ]
  },
  {
   "cell_type": "markdown",
   "metadata": {},
   "source": [
    "## Experiment 2"
   ]
  },
  {
   "cell_type": "code",
   "execution_count": 9,
   "metadata": {},
   "outputs": [
    {
     "data": {
      "application/vnd.jupyter.widget-view+json": {
       "model_id": "a7a572ebd26e48bead0cc17283cf6352",
       "version_major": 2,
       "version_minor": 0
      },
      "text/plain": [
       "Button(description=u'Start', style=ButtonStyle())"
      ]
     },
     "metadata": {},
     "output_type": "display_data"
    }
   ],
   "source": [
    "run_experiment(my_experiments[2], participant, logdir=LOGDIR)"
   ]
  },
  {
   "cell_type": "markdown",
   "metadata": {},
   "source": [
    "## Experiment 3"
   ]
  },
  {
   "cell_type": "code",
   "execution_count": 10,
   "metadata": {},
   "outputs": [
    {
     "data": {
      "application/vnd.jupyter.widget-view+json": {
       "model_id": "948597cab5e54cae8f49327e35350f12",
       "version_major": 2,
       "version_minor": 0
      },
      "text/plain": [
       "Button(description=u'Start', style=ButtonStyle())"
      ]
     },
     "metadata": {},
     "output_type": "display_data"
    }
   ],
   "source": [
    "run_experiment(my_experiments[3], participant, logdir=LOGDIR)"
   ]
  },
  {
   "cell_type": "markdown",
   "metadata": {},
   "source": [
    "## Experiment 4"
   ]
  },
  {
   "cell_type": "code",
   "execution_count": 11,
   "metadata": {},
   "outputs": [
    {
     "data": {
      "application/vnd.jupyter.widget-view+json": {
       "model_id": "0543ef04c7cb4c6da972fd1f0bb6f3f0",
       "version_major": 2,
       "version_minor": 0
      },
      "text/plain": [
       "Button(description=u'Start', style=ButtonStyle())"
      ]
     },
     "metadata": {},
     "output_type": "display_data"
    }
   ],
   "source": [
    "run_experiment(my_experiments[4], participant, logdir=LOGDIR)"
   ]
  },
  {
   "cell_type": "markdown",
   "metadata": {},
   "source": [
    "## Experiment 5"
   ]
  },
  {
   "cell_type": "code",
   "execution_count": 12,
   "metadata": {},
   "outputs": [
    {
     "data": {
      "application/vnd.jupyter.widget-view+json": {
       "model_id": "8325a7069b944969a90ab9b7788bf8ff",
       "version_major": 2,
       "version_minor": 0
      },
      "text/plain": [
       "Button(description=u'Start', style=ButtonStyle())"
      ]
     },
     "metadata": {},
     "output_type": "display_data"
    }
   ],
   "source": [
    "run_experiment(my_experiments[5], participant, logdir=LOGDIR)"
   ]
  },
  {
   "cell_type": "markdown",
   "metadata": {},
   "source": [
    "## Experiment 6"
   ]
  },
  {
   "cell_type": "code",
   "execution_count": 13,
   "metadata": {},
   "outputs": [
    {
     "data": {
      "application/vnd.jupyter.widget-view+json": {
       "model_id": "c247e8a6d0784c9f87a131ba04e72065",
       "version_major": 2,
       "version_minor": 0
      },
      "text/plain": [
       "Button(description=u'Start', style=ButtonStyle())"
      ]
     },
     "metadata": {},
     "output_type": "display_data"
    }
   ],
   "source": [
    "run_experiment(my_experiments[6], participant, logdir=LOGDIR)"
   ]
  },
  {
   "cell_type": "markdown",
   "metadata": {},
   "source": [
    "## Experiment 7"
   ]
  },
  {
   "cell_type": "code",
   "execution_count": 14,
   "metadata": {},
   "outputs": [
    {
     "data": {
      "application/vnd.jupyter.widget-view+json": {
       "model_id": "89e43ab7ac8b44f99279655d1b26fbac",
       "version_major": 2,
       "version_minor": 0
      },
      "text/plain": [
       "Button(description=u'Start', style=ButtonStyle())"
      ]
     },
     "metadata": {},
     "output_type": "display_data"
    }
   ],
   "source": [
    "run_experiment(my_experiments[7], participant, logdir=LOGDIR)"
   ]
  },
  {
   "cell_type": "markdown",
   "metadata": {},
   "source": [
    "## Experiment 8"
   ]
  },
  {
   "cell_type": "code",
   "execution_count": 15,
   "metadata": {},
   "outputs": [
    {
     "data": {
      "application/vnd.jupyter.widget-view+json": {
       "model_id": "da9f522a43ae4a66bcbeb8214b992b11",
       "version_major": 2,
       "version_minor": 0
      },
      "text/plain": [
       "Button(description=u'Start', style=ButtonStyle())"
      ]
     },
     "metadata": {},
     "output_type": "display_data"
    }
   ],
   "source": [
    "run_experiment(my_experiments[8], participant, logdir=LOGDIR)"
   ]
  },
  {
   "cell_type": "markdown",
   "metadata": {},
   "source": [
    "# Analysis"
   ]
  },
  {
   "cell_type": "code",
   "execution_count": 16,
   "metadata": {},
   "outputs": [
    {
     "ename": "AssertionError",
     "evalue": "",
     "output_type": "error",
     "traceback": [
      "\u001b[0;31m---------------------------------------------------------------------------\u001b[0m",
      "\u001b[0;31mAssertionError\u001b[0m                            Traceback (most recent call last)",
      "\u001b[0;32m<ipython-input-16-8808c4021c9c>\u001b[0m in \u001b[0;36m<module>\u001b[0;34m()\u001b[0m\n\u001b[0;32m----> 1\u001b[0;31m \u001b[0;32massert\u001b[0m\u001b[0;34m(\u001b[0m\u001b[0mFalse\u001b[0m\u001b[0;34m)\u001b[0m\u001b[0;34m\u001b[0m\u001b[0m\n\u001b[0m",
      "\u001b[0;31mAssertionError\u001b[0m: "
     ]
    }
   ],
   "source": [
    "assert(False)"
   ]
  },
  {
   "cell_type": "code",
   "execution_count": null,
   "metadata": {},
   "outputs": [],
   "source": [
    "def get_all_trials(logdir, dims='*', scale='*', participants='*'):\n",
    "    assert(participants == '*' or type(participants) == list)\n",
    "    trials = []\n",
    "    for p in participants:\n",
    "        query_path = os.path.join(logdir, \"participant_{}\".format(p), \"*ndims-{}-*std-{}-*\".format(dims, scale))\n",
    "        trials += glob(query_path)\n",
    "    return trials"
   ]
  },
  {
   "cell_type": "code",
   "execution_count": null,
   "metadata": {},
   "outputs": [],
   "source": [
    "get_all_trials(logdir, participants=[0])"
   ]
  },
  {
   "cell_type": "code",
   "execution_count": null,
   "metadata": {},
   "outputs": [],
   "source": [
    "def get_acc_per_block(outdir):\n",
    "    # config = dict(np.load(os.path.join(outdir, \"config.npz\")).items())\n",
    "    blocks = [\n",
    "        list(x) for _, x in\n",
    "        sorted(np.load(\n",
    "            os.path.join(outdir, \"blocks.npz\")\n",
    "        ).items())\n",
    "    ]\n",
    "    assert experiment_is_complete(blocks)\n",
    "    acc_per_block = []\n",
    "    for block in blocks:\n",
    "        acc = np.mean([\n",
    "            x[\"category\"] == x[\"predicted_category\"]\n",
    "            for x in block\n",
    "        ])\n",
    "        acc_per_block.append(acc)\n",
    "    return acc_per_block\n",
    "\n",
    "out_dir = os.path.join(logdir, 'participant_' + \n",
    "                                str(participant['id_num']))\n",
    "\n",
    "acc_per_block_200 = np.array([get_acc_per_block(x) for x in get_all_trials(logdir, dims=200, scale=0.6)])\n",
    "acc_per_block_100 = np.array([get_acc_per_block(x) for x in get_all_trials(logdir, dims=100, scale=0.6)])\n",
    "acc_per_block_10 = np.array([get_acc_per_block(x) for x in get_all_trials(logdir, dims=10, scale=0.6)])"
   ]
  },
  {
   "cell_type": "code",
   "execution_count": null,
   "metadata": {},
   "outputs": [],
   "source": [
    "print(acc_per_block_200)\n",
    "print(acc_per_block_100)\n",
    "print(acc_per_block_10)"
   ]
  },
  {
   "cell_type": "code",
   "execution_count": null,
   "metadata": {},
   "outputs": [],
   "source": [
    "# results: list of result objects\n",
    "#     result: np.array (n_participants * n_blocks)\n",
    "# ndims: list of ints corresponding to ndim of each result\n",
    "# scale: float corresponding to std used across all results\n",
    "\n",
    "def plot_learning(results, ndims, scale):\n",
    "    plt.figure(figsize=(10., 10.))\n",
    "    \n",
    "    for i, r in enumerate(results):\n",
    "        mean_r = np.mean(r, axis=0)\n",
    "        std_r = np.std(r, axis=0)\n",
    "        sem_r = stats.sem(r, axis=0, ddof=0)\n",
    "        n_r = r.shape[0]\n",
    "        plt.errorbar(\n",
    "            range(len(mean_r)),\n",
    "            mean_r,\n",
    "            sem_r,\n",
    "            capsize=5,\n",
    "            label=\"ndims={} (N={})\".format(ndims[i], n_r)\n",
    "        )\n",
    "        \n",
    "    plt.plot([0, 4], [0.5, 0.5], color='gray', linestyle=\"--\")\n",
    "    \n",
    "    plt.xticks(range(0, 5))\n",
    "    plt.xlabel(\"Block\")\n",
    "\n",
    "    plt.ylim(0., 1.2)\n",
    "    plt.ylabel(\"Proportion correct\")\n",
    "\n",
    "    plt.title(\"GAN categories (scale={})\".format(scale))\n",
    "\n",
    "    plt.legend()\n",
    "    plt.show()"
   ]
  },
  {
   "cell_type": "code",
   "execution_count": null,
   "metadata": {},
   "outputs": [],
   "source": [
    "plot_learning([acc_per_block_200, acc_per_block_100, acc_per_block_10], [200, 100, 10], 0.6)"
   ]
  },
  {
   "cell_type": "code",
   "execution_count": null,
   "metadata": {},
   "outputs": [],
   "source": [
    "import seaborn as sns\n",
    "import pandas as pd\n",
    "\n",
    "# good coding alex!\n",
    "df = pd.DataFrame(sum([sum([[{\n",
    "    \"block\": i,\n",
    "    \"accuracy\": acc,\n",
    "    \"ndims\": ndims\n",
    "} for i, acc in enumerate(accs)]\n",
    "    for accs in acc_per_block], [])\n",
    " for ndims, acc_per_block in {\n",
    "     200: acc_per_block_200,\n",
    "     100: acc_per_block_100,\n",
    "     10: acc_per_block_10\n",
    " }.items()], []))\n",
    "\n",
    "plt.figure(figsize=(8., 8.))\n",
    "ax = sns.boxplot(\n",
    "    x=\"block\",\n",
    "    y=\"accuracy\",\n",
    "    hue=\"ndims\",\n",
    "    data=df,\n",
    "    palette=\"Set3\"\n",
    ")\n",
    "    \n",
    "plt.xticks(range(0, 5))\n",
    "plt.xlabel(\"Block\")\n",
    "\n",
    "plt.ylim(0.5, 1.05)\n",
    "plt.ylabel(\"Proportion correct\")\n",
    "\n",
    "plt.title(\"GAN categories\")\n",
    "plt.show()"
   ]
  },
  {
   "cell_type": "code",
   "execution_count": null,
   "metadata": {},
   "outputs": [],
   "source": []
  },
  {
   "cell_type": "markdown",
   "metadata": {},
   "source": [
    "# Viz"
   ]
  },
  {
   "cell_type": "code",
   "execution_count": null,
   "metadata": {},
   "outputs": [],
   "source": [
    "# config = get_config(nblocks=1, ntrials=5, std=0.25, ndims=200, print_feedback=False)\n",
    "print(config.dist)\n",
    "examples1 = [get_mean_example(config, 'bivimias') for _ in range(config.ntrials)][:5]\n",
    "imshows([x['img'] for x in examples1], labels=[x['category'] for x in examples1])"
   ]
  },
  {
   "cell_type": "code",
   "execution_count": null,
   "metadata": {},
   "outputs": [],
   "source": [
    "examples1 = [get_mean_example(config, 'lorifens') for _ in range(config.ntrials)][:5]\n",
    "imshows([x['img'] for x in examples1], labels=[x['category'] for x in examples1])"
   ]
  },
  {
   "cell_type": "code",
   "execution_count": null,
   "metadata": {},
   "outputs": [],
   "source": []
  }
 ],
 "metadata": {
  "kernelspec": {
   "display_name": "mcmcp",
   "language": "python",
   "name": "mcmcp"
  },
  "language_info": {
   "codemirror_mode": {
    "name": "ipython",
    "version": 2
   },
   "file_extension": ".py",
   "mimetype": "text/x-python",
   "name": "python",
   "nbconvert_exporter": "python",
   "pygments_lexer": "ipython2",
   "version": "2.7.13"
  }
 },
 "nbformat": 4,
 "nbformat_minor": 2
}
