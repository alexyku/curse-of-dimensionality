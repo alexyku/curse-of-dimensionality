{
 "cells": [
  {
   "cell_type": "markdown",
   "metadata": {},
   "source": [
    "# Setup\n",
    "For the experimenter - no need to worry about this."
   ]
  },
  {
   "cell_type": "code",
   "execution_count": null,
   "metadata": {},
   "outputs": [],
   "source": [
    "%%capture\n",
    "%load_ext autoreload\n",
    "%autoreload 2\n",
    "\n",
    "from glob import glob\n",
    "import random\n",
    "from scipy import stats\n",
    "\n",
    "from pilot import *\n",
    "%matplotlib inline\n",
    "plt.style.use(\"ggplot\")\n",
    "\n",
    "LOGDIR = os.path.join(os.getcwd(), 'logs')"
   ]
  },
  {
   "cell_type": "code",
   "execution_count": null,
   "metadata": {},
   "outputs": [],
   "source": [
    "NBLOCKS = 5\n",
    "NTRIALS = 10\n",
    "\n",
    "dims = [10, 100, 200]\n",
    "scales = [0.25, 0.50, 0.75]\n",
    "experiments = []\n",
    "for d in dims:\n",
    "    for s in scales:\n",
    "        experiments.append({'ndims': d, 'scale': s})\n",
    "        \n",
    "# Randomly shuffle the experiments\n",
    "my_experiments = random.sample(experiments, len(experiments))"
   ]
  },
  {
   "cell_type": "code",
   "execution_count": null,
   "metadata": {},
   "outputs": [],
   "source": [
    "practice_experiment = {'ndims': 200, 'scale': 0.25}"
   ]
  },
  {
   "cell_type": "code",
   "execution_count": null,
   "metadata": {},
   "outputs": [],
   "source": [
    "def run_experiment(x, participant, nblocks=NBLOCKS, ntrials=NTRIALS, logdir=LOGDIR, seed=None):\n",
    "    if seed is not None:\n",
    "        np.random.seed(seed)\n",
    "    config = get_config(nblocks=nblocks, ntrials=ntrials, ndims=x['ndims'], std=x['scale'], print_feedback=True)\n",
    "    blocks = get_blocks(config)\n",
    "    pilot_experiment(blocks, config, participant, logdir)"
   ]
  },
  {
   "cell_type": "code",
   "execution_count": null,
   "metadata": {},
   "outputs": [],
   "source": [
    "def show_samples(seed=None):\n",
    "    if seed is not None:\n",
    "        np.random.seed(seed)\n",
    "    config = get_config(nblocks=1, ntrials=5, std=0.25, ndims=200, print_feedback=False)\n",
    "    examples1 = [get_mean_example(config, 'bivimias') for _ in range(config.ntrials)][:5]\n",
    "    examples2 = [get_mean_example(config, 'lorifens') for _ in range(config.ntrials)][:5]\n",
    "    plt.figure()\n",
    "    imshows([x['img'] for x in examples1], labels=['']*2 + ['Unknown Artist 1'] + ['']*2)\n",
    "    plt.figure()\n",
    "    imshows([x['img'] for x in examples2], labels=['']*2 + ['Unknown Artist 2'] + ['']*2)"
   ]
  },
  {
   "cell_type": "markdown",
   "metadata": {},
   "source": [
    "# Participant info\n",
    "Please enter the following details."
   ]
  },
  {
   "cell_type": "code",
   "execution_count": null,
   "metadata": {},
   "outputs": [],
   "source": [
    "participant = {\n",
    "    'id_num': 5,\n",
    "    'initials': '??',\n",
    "}"
   ]
  },
  {
   "cell_type": "markdown",
   "metadata": {},
   "source": [
    "# The Art Show Game\n",
    "\n",
    "You are a collector of abstract paintings. At an art show, you are asked to help distinguish between the works of two up-and-coming abstract painters: Salvatore Bivimiano and Micah Lorifensky. Though you've never seen their art before, you have a keen eye and are able to put it to use.\n",
    "\n",
    "As part of a recent trend in the world of abstract art, Bivimiano and Lorifensky have produced collections of multiple paintings that are all variants of the same theme. For instance:"
   ]
  },
  {
   "cell_type": "code",
   "execution_count": null,
   "metadata": {},
   "outputs": [],
   "source": [
    "show_samples(seed=0)"
   ]
  },
  {
   "cell_type": "markdown",
   "metadata": {},
   "source": [
    "## Your task\n",
    "\n",
    "In the following exhibits, you'll be presented with different paintings, and will be asked to determine the artist. Initially, you will not know; however, after each determination, you'll receive feedback telling you whether you were correct. Note that in each exhibit, you'll see work from the two painters in equal proportion. There are nine exhibits in total."
   ]
  },
  {
   "cell_type": "markdown",
   "metadata": {},
   "source": [
    "## Practice exhibit"
   ]
  },
  {
   "cell_type": "code",
   "execution_count": null,
   "metadata": {},
   "outputs": [],
   "source": [
    "run_experiment(practice_experiment, participant, nblocks=5, ntrials=2, logdir=os.path.join(LOGDIR, 'practice'), seed=0)"
   ]
  },
  {
   "cell_type": "code",
   "execution_count": null,
   "metadata": {},
   "outputs": [],
   "source": [
    "np.random.seed()"
   ]
  },
  {
   "cell_type": "markdown",
   "metadata": {},
   "source": [
    "## Exhibit 0"
   ]
  },
  {
   "cell_type": "code",
   "execution_count": null,
   "metadata": {},
   "outputs": [],
   "source": [
    "run_experiment(my_experiments[0], participant, logdir=LOGDIR)"
   ]
  },
  {
   "cell_type": "markdown",
   "metadata": {},
   "source": [
    "## Exhibit 1"
   ]
  },
  {
   "cell_type": "code",
   "execution_count": null,
   "metadata": {},
   "outputs": [],
   "source": [
    "run_experiment(my_experiments[1], participant, logdir=LOGDIR)"
   ]
  },
  {
   "cell_type": "markdown",
   "metadata": {},
   "source": [
    "## Exhibit 2"
   ]
  },
  {
   "cell_type": "code",
   "execution_count": null,
   "metadata": {},
   "outputs": [],
   "source": [
    "run_experiment(my_experiments[2], participant, logdir=LOGDIR)"
   ]
  },
  {
   "cell_type": "markdown",
   "metadata": {},
   "source": [
    "## Exhibit 3"
   ]
  },
  {
   "cell_type": "code",
   "execution_count": null,
   "metadata": {},
   "outputs": [],
   "source": [
    "run_experiment(my_experiments[3], participant, logdir=LOGDIR)"
   ]
  },
  {
   "cell_type": "markdown",
   "metadata": {},
   "source": [
    "## Exhibit 4"
   ]
  },
  {
   "cell_type": "code",
   "execution_count": null,
   "metadata": {},
   "outputs": [],
   "source": [
    "run_experiment(my_experiments[4], participant, logdir=LOGDIR)"
   ]
  },
  {
   "cell_type": "markdown",
   "metadata": {},
   "source": [
    "## Exhibit 5"
   ]
  },
  {
   "cell_type": "code",
   "execution_count": null,
   "metadata": {},
   "outputs": [],
   "source": [
    "run_experiment(my_experiments[5], participant, logdir=LOGDIR)"
   ]
  },
  {
   "cell_type": "markdown",
   "metadata": {},
   "source": [
    "## Exhibit 6"
   ]
  },
  {
   "cell_type": "code",
   "execution_count": null,
   "metadata": {},
   "outputs": [],
   "source": [
    "run_experiment(my_experiments[6], participant, logdir=LOGDIR)"
   ]
  },
  {
   "cell_type": "markdown",
   "metadata": {},
   "source": [
    "## Exhibit 7"
   ]
  },
  {
   "cell_type": "code",
   "execution_count": null,
   "metadata": {},
   "outputs": [],
   "source": [
    "run_experiment(my_experiments[7], participant, logdir=LOGDIR)"
   ]
  },
  {
   "cell_type": "markdown",
   "metadata": {},
   "source": [
    "## Exhibit 8"
   ]
  },
  {
   "cell_type": "code",
   "execution_count": null,
   "metadata": {},
   "outputs": [],
   "source": [
    "run_experiment(my_experiments[8], participant, logdir=LOGDIR)"
   ]
  },
  {
   "cell_type": "code",
   "execution_count": null,
   "metadata": {},
   "outputs": [],
   "source": []
  },
  {
   "cell_type": "markdown",
   "metadata": {},
   "source": [
    "# Analysis"
   ]
  },
  {
   "cell_type": "code",
   "execution_count": null,
   "metadata": {},
   "outputs": [],
   "source": [
    "assert(False)"
   ]
  },
  {
   "cell_type": "code",
   "execution_count": null,
   "metadata": {},
   "outputs": [],
   "source": [
    "def get_all_trials(logdir, dims='*', scale='*', participants='*'):\n",
    "    assert(participants == '*' or type(participants) == list)\n",
    "    trials = []\n",
    "    for p in participants:\n",
    "        query_path = os.path.join(logdir, \"participant_{}\".format(p), \"*ndims-{}-*std-{}-*\".format(dims, scale))\n",
    "        trials += glob(query_path)\n",
    "    return trials"
   ]
  },
  {
   "cell_type": "code",
   "execution_count": null,
   "metadata": {},
   "outputs": [],
   "source": [
    "get_all_trials(LOGDIR, participants=[4])"
   ]
  },
  {
   "cell_type": "code",
   "execution_count": null,
   "metadata": {},
   "outputs": [],
   "source": [
    "def get_acc_per_block(outdir):\n",
    "    # config = dict(np.load(os.path.join(outdir, \"config.npz\")).items())\n",
    "    blocks = [\n",
    "        list(x) for _, x in\n",
    "        sorted(np.load(\n",
    "            os.path.join(outdir, \"blocks.npz\")\n",
    "        ).items())\n",
    "    ]\n",
    "    assert experiment_is_complete(blocks)\n",
    "    acc_per_block = []\n",
    "    for block in blocks:\n",
    "        acc = np.mean([\n",
    "            x[\"category\"] == x[\"predicted_category\"]\n",
    "            for x in block\n",
    "        ])\n",
    "        acc_per_block.append(acc)\n",
    "    return acc_per_block"
   ]
  },
  {
   "cell_type": "code",
   "execution_count": null,
   "metadata": {},
   "outputs": [],
   "source": [
    "# results: list of result objects\n",
    "#     result: np.array (n_participants * n_blocks)\n",
    "# ndims: list of ints corresponding to ndim of each result\n",
    "# scale: float corresponding to std used across all results\n",
    "\n",
    "def plot_learning(results, ndims, scale):\n",
    "    plt.figure(figsize=(10., 10.))\n",
    "    \n",
    "    for i, r in enumerate(results):\n",
    "        mean_r = np.mean(r, axis=0)\n",
    "        std_r = np.std(r, axis=0)\n",
    "        sem_r = stats.sem(r, axis=0, ddof=0)\n",
    "        n_r = r.shape[0]\n",
    "        plt.errorbar(\n",
    "            range(len(mean_r)),\n",
    "            mean_r,\n",
    "            sem_r,\n",
    "            capsize=5,\n",
    "            label=\"ndims={} (N={})\".format(ndims[i], n_r)\n",
    "        )\n",
    "        \n",
    "    plt.plot([0, 4], [0.5, 0.5], color='gray', linestyle=\"--\")\n",
    "    \n",
    "    plt.xticks(range(0, 5))\n",
    "    plt.xlabel(\"Block\")\n",
    "\n",
    "    plt.ylim(0., 1.2)\n",
    "    plt.ylabel(\"Proportion correct\")\n",
    "\n",
    "    plt.title(\"GAN categories (scale={})\".format(scale))\n",
    "\n",
    "    plt.legend()\n",
    "    plt.show()"
   ]
  },
  {
   "cell_type": "code",
   "execution_count": null,
   "metadata": {},
   "outputs": [],
   "source": [
    "P_QUERY = [2,3,4]\n",
    "SCALE_QUERY = 0.75\n",
    "\n",
    "acc_per_block_200 = np.array([get_acc_per_block(x) for x in get_all_trials(LOGDIR, dims=200, scale=SCALE_QUERY, participants=P_QUERY)])\n",
    "acc_per_block_100 = np.array([get_acc_per_block(x) for x in get_all_trials(LOGDIR, dims=100, scale=SCALE_QUERY, participants=P_QUERY)])\n",
    "acc_per_block_10 = np.array([get_acc_per_block(x) for x in get_all_trials(LOGDIR, dims=10, scale=SCALE_QUERY, participants=P_QUERY)])\n",
    "\n",
    "print(acc_per_block_200)\n",
    "print(acc_per_block_100)\n",
    "print(acc_per_block_10)"
   ]
  },
  {
   "cell_type": "code",
   "execution_count": null,
   "metadata": {},
   "outputs": [],
   "source": [
    "plot_learning([acc_per_block_200, acc_per_block_100, acc_per_block_10], [200, 100, 10], SCALE_QUERY)"
   ]
  },
  {
   "cell_type": "code",
   "execution_count": null,
   "metadata": {},
   "outputs": [],
   "source": [
    "import seaborn as sns\n",
    "import pandas as pd\n",
    "\n",
    "# good coding alex!\n",
    "df = pd.DataFrame(sum([sum([[{\n",
    "    \"block\": i,\n",
    "    \"accuracy\": acc,\n",
    "    \"ndims\": ndims\n",
    "} for i, acc in enumerate(accs)]\n",
    "    for accs in acc_per_block], [])\n",
    " for ndims, acc_per_block in {\n",
    "     200: acc_per_block_200,\n",
    "     100: acc_per_block_100,\n",
    "     10: acc_per_block_10\n",
    " }.items()], []))\n",
    "\n",
    "plt.figure(figsize=(8., 8.))\n",
    "ax = sns.boxplot(\n",
    "    x=\"block\",\n",
    "    y=\"accuracy\",\n",
    "    hue=\"ndims\",\n",
    "    data=df,\n",
    "    palette=\"Set3\"\n",
    ")\n",
    "    \n",
    "plt.xticks(range(0, 5))\n",
    "plt.xlabel(\"Block\")\n",
    "\n",
    "plt.ylim(0.5, 1.05)\n",
    "plt.ylabel(\"Proportion correct\")\n",
    "\n",
    "plt.title(\"GAN categories\")\n",
    "plt.show()"
   ]
  },
  {
   "cell_type": "markdown",
   "metadata": {},
   "source": [
    "# Viz"
   ]
  },
  {
   "cell_type": "code",
   "execution_count": null,
   "metadata": {},
   "outputs": [],
   "source": [
    "SEED = 4\n",
    "    \n",
    "a, b, _ = rand_categories()\n",
    "\n",
    "def reveal_examples(std=0.25):\n",
    "    print('std = {}'.format(std))\n",
    "    for d in [10, 100, 200]:\n",
    "        config = get_config(nblocks=1, ntrials=10, std=std, ndims=d, print_feedback=False, seed=SEED)\n",
    "        config.bivimias = a\n",
    "        config.lorifens = b\n",
    "        examples1 = [get_mean_example(config, 'bivimias') for _ in range(config.ntrials)][:5]\n",
    "        plt.figure()\n",
    "        imshows([x['img'] for x in examples1], labels=['{}d'.format(d)] * 5)"
   ]
  },
  {
   "cell_type": "code",
   "execution_count": null,
   "metadata": {},
   "outputs": [],
   "source": [
    "reveal_examples(std=0.25)"
   ]
  },
  {
   "cell_type": "code",
   "execution_count": null,
   "metadata": {},
   "outputs": [],
   "source": [
    "reveal_examples(std=0.50)"
   ]
  },
  {
   "cell_type": "code",
   "execution_count": null,
   "metadata": {},
   "outputs": [],
   "source": [
    "reveal_examples(std=0.75)"
   ]
  },
  {
   "cell_type": "code",
   "execution_count": null,
   "metadata": {},
   "outputs": [],
   "source": [
    "print('Scale')\n",
    "for s in [0.25, 0.50, 0.75]:\n",
    "    config = get_config(nblocks=1, ntrials=5, std=s, ndims=200, print_feedback=False, seed=SEED)\n",
    "    config.bivimias = a\n",
    "    config.lorifens = b\n",
    "    examples1 = [get_mean_example(config, 'bivimias', seed=SEED) for _ in range(config.ntrials)][:5]\n",
    "    plt.figure()\n",
    "    imshows([x['img'] for x in examples1], labels=['{}s'.format(s)] * 5)"
   ]
  },
  {
   "cell_type": "code",
   "execution_count": null,
   "metadata": {},
   "outputs": [],
   "source": []
  },
  {
   "cell_type": "code",
   "execution_count": null,
   "metadata": {},
   "outputs": [],
   "source": [
    "config = get_config(nblocks=1, ntrials=5, std=0.25, ndims=200, print_feedback=False)\n",
    "examples1 = [get_mean_example(config, 'bivimias') for _ in range(config.ntrials)][:5]\n",
    "imshows([x['img'] for x in examples1], labels=[x['category'] for x in examples1])"
   ]
  },
  {
   "cell_type": "code",
   "execution_count": null,
   "metadata": {},
   "outputs": [],
   "source": [
    "examples1 = [get_mean_example(config, 'lorifens') for _ in range(config.ntrials)][:5]\n",
    "imshows([x['img'] for x in examples1], labels=[x['category'] for x in examples1])"
   ]
  }
 ],
 "metadata": {
  "kernelspec": {
   "display_name": "mcmcp",
   "language": "python",
   "name": "mcmcp"
  },
  "language_info": {
   "codemirror_mode": {
    "name": "ipython",
    "version": 2
   },
   "file_extension": ".py",
   "mimetype": "text/x-python",
   "name": "python",
   "nbconvert_exporter": "python",
   "pygments_lexer": "ipython2",
   "version": "2.7.13"
  }
 },
 "nbformat": 4,
 "nbformat_minor": 2
}
