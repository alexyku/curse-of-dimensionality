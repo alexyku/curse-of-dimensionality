{
 "cells": [
  {
   "cell_type": "code",
   "execution_count": 42,
   "metadata": {},
   "outputs": [
    {
     "name": "stdout",
     "output_type": "stream",
     "text": [
      "Populating the interactive namespace from numpy and matplotlib\n"
     ]
    }
   ],
   "source": [
    "from scipy import linalg\n",
    "%pylab inline"
   ]
  },
  {
   "cell_type": "markdown",
   "metadata": {},
   "source": [
    "# 1. Category selection"
   ]
  },
  {
   "cell_type": "code",
   "execution_count": null,
   "metadata": {
    "collapsed": true
   },
   "outputs": [],
   "source": []
  },
  {
   "cell_type": "markdown",
   "metadata": {
    "collapsed": true
   },
   "source": [
    "# 2. Testing if inside hypercube"
   ]
  },
  {
   "cell_type": "code",
   "execution_count": null,
   "metadata": {
    "collapsed": true
   },
   "outputs": [],
   "source": [
    "def assert_inside_hypercube(z):\n",
    "    # assert point is inside the hypercube\n",
    "    assert np.all(z > -1) and np.all(z < 1)\n",
    "\n",
    "def assert_inside_hypersphere(z):\n",
    "    # assert point is inside the hypersphere\n",
    "    assert np.linalg.norm(z) < 1\n",
    "    \n",
    "def wrapping_correction(z):\n",
    "    # forces values in x to be between -1 and 1\n",
    "    # by wrapping around the world\n",
    "    z = np.array([z])\n",
    "    mask = np.abs(z) > 1\n",
    "    u = z[mask]\n",
    "    v = -np.sign(u) * (1 - (u - np.floor(u)))\n",
    "    z[mask] = v\n",
    "    return z[0]\n",
    "\n",
    "def truncating_correction(x):\n",
    "    # forces values in x to be between -1 and 1\n",
    "    # by truncating at the bounds with max/min\n",
    "    z = np.array([z])\n",
    "    z = np.max(z, -1)\n",
    "    z = np.min(z, 1)\n",
    "    return z[0]"
   ]
  },
  {
   "cell_type": "markdown",
   "metadata": {},
   "source": [
    "# 3. Manifold sampling"
   ]
  },
  {
   "cell_type": "code",
   "execution_count": 178,
   "metadata": {},
   "outputs": [],
   "source": [
    "def random_mask(n, k):\n",
    "    x = np.concatenate([np.zeros(n-k), np.ones(k)])\n",
    "    np.random.shuffle(x)\n",
    "    return x\n",
    "\n",
    "def masked_noise(loc, scale, mask):\n",
    "    effective_scale = np.mean(mask) * scale\n",
    "    return np.random.normal(loc, scale, mask.shape) * mask\n",
    "\n",
    "mask = random_mask(200, 100)\n",
    "noise = masked_noise(0, 1, mask)"
   ]
  }
 ],
 "metadata": {
  "kernelspec": {
   "display_name": "mcmcp",
   "language": "python",
   "name": "mcmcp"
  },
  "language_info": {
   "codemirror_mode": {
    "name": "ipython",
    "version": 2
   },
   "file_extension": ".py",
   "mimetype": "text/x-python",
   "name": "python",
   "nbconvert_exporter": "python",
   "pygments_lexer": "ipython2",
   "version": "2.7.13"
  }
 },
 "nbformat": 4,
 "nbformat_minor": 2
}
