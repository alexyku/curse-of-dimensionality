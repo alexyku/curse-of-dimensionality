{
 "cells": [
  {
   "cell_type": "code",
   "execution_count": 17,
   "metadata": {
    "collapsed": true
   },
   "outputs": [],
   "source": [
    "%%capture\n",
    "import numpy as np\n",
    "import matplotlib.pyplot as plt\n",
    "%matplotlib inline\n",
    "import sys\n",
    "sys.path.append('../src/mcmcp-bigan-generator-web-service/')\n",
    "from generate import floatX, load_params, _render_image"
   ]
  },
  {
   "cell_type": "code",
   "execution_count": 18,
   "metadata": {},
   "outputs": [
    {
     "name": "stdout",
     "output_type": "stream",
     "text": [
      "WEIGHTS LOADED...\n"
     ]
    }
   ],
   "source": [
    "model_dir = '../src/mcmcp-bigan-generator-web-service/exp/imagenet_1000_size72_u-200_bigan/models'\n",
    "load_params(model_dir, weight_prefix=None, resume_epoch=100)\n",
    "print(\"WEIGHTS LOADED...\")"
   ]
  },
  {
   "cell_type": "markdown",
   "metadata": {},
   "source": [
    "https://repl.it/repls/DarkgrayStrongDeskscan\n",
    "    \n",
    "```\n",
    "function l2Norm(point) {\n",
    "  return Math.sqrt(point.map(x => x**2).reduce((a, b) => a + b, 0));\n",
    "}\n",
    "\n",
    "function isInsideHypercube(point) {\n",
    "  return point.every(x => -1.0 < x && x < 1.0);\n",
    "}\n",
    "\n",
    "function isInsideHypersphere(point) {\n",
    "  return l2Norm(point) < 1.0;\n",
    "}\n",
    "\n",
    "function createCategories(distance) {\n",
    "  var point = []; // point on hypersphere surface\n",
    "  for (i = 0; i < 200; i++) { point.push(Math.random() * 2.0 - 1.0); }\n",
    "\n",
    "  var norm = l2Norm(point); // normalizing\n",
    "  point = point.map(x => x / norm);\n",
    "\n",
    "  var mean1 = point.map(x => distance / 2 * x);\n",
    "  var mean2 = point.map(x => -distance / 2 * x);\n",
    "\n",
    "  return [mean1, mean2];\n",
    "}\n",
    "console.log(createCategories(1.0))\n",
    "```"
   ]
  },
  {
   "cell_type": "code",
   "execution_count": null,
   "metadata": {
    "collapsed": true
   },
   "outputs": [],
   "source": []
  }
 ],
 "metadata": {
  "kernelspec": {
   "display_name": "mcmcp",
   "language": "python",
   "name": "mcmcp"
  },
  "language_info": {
   "codemirror_mode": {
    "name": "ipython",
    "version": 2
   },
   "file_extension": ".py",
   "mimetype": "text/x-python",
   "name": "python",
   "nbconvert_exporter": "python",
   "pygments_lexer": "ipython2",
   "version": "2.7.13"
  }
 },
 "nbformat": 4,
 "nbformat_minor": 2
}
